{
 "cells": [
  {
   "cell_type": "markdown",
   "metadata": {
    "id": "dP2qVBlQHbC8"
   },
   "source": [
    "# Voltametria de corrente amostrada\n",
    "A voltametria de corrente amostrada consiste de uma série de saltos de potenciais nos quais a corrente é amostrada em um tempo pré-determinado $\\tau_s$. Portanto, as equações a serem resolvidas são as mesmas do exemplo anterior. A diferença é que a solução é obtida para uma sequência de potenciais entre $E_i$ e $E_f$ e a corrente é representada em função de $E$."
   ]
  },
  {
   "cell_type": "code",
   "execution_count": 1,
   "metadata": {
    "colab": {
     "base_uri": "https://localhost:8080/"
    },
    "id": "33zzyQClHbDA",
    "outputId": "6ffdebb5-1cb9-4bdb-ddd8-3ebb36276d02"
   },
   "outputs": [],
   "source": [
    "import pybamm\n",
    "import numpy as np\n",
    "import matplotlib.pyplot as plt\n",
    "import sympy as sy\n",
    "import math\n",
    "from scipy import special"
   ]
  },
  {
   "cell_type": "markdown",
   "metadata": {
    "id": "GE5PRWCNHbDC"
   },
   "source": [
    "## Definindo o modelo"
   ]
  },
  {
   "cell_type": "markdown",
   "metadata": {
    "id": "Z2XjCy5kHbDD"
   },
   "source": [
    "Definindo a variável do modelo e a qual domínio ela pertence (neste caso é necessário calcular a concentração de b para aplicar a equação de Nernst na interface):"
   ]
  },
  {
   "cell_type": "code",
   "execution_count": 2,
   "metadata": {
    "id": "grWOj8UyHbDE"
   },
   "outputs": [],
   "source": [
    "model = pybamm.BaseModel()\n",
    "\n",
    "co = pybamm.Variable(\"Concentration of O\", domain=\"electrolyte\") \n",
    "cr = pybamm.Variable(\"Concentration of R\", domain=\"electrolyte\")"
   ]
  },
  {
   "cell_type": "markdown",
   "metadata": {
    "id": "Z2XjCy5kHbDD"
   },
   "source": [
    "Definindo os parâmetros do modelo:"
   ]
  },
  {
   "cell_type": "code",
   "execution_count": 3,
   "metadata": {},
   "outputs": [],
   "source": [
    "eta = pybamm.Parameter(\"Applied Overpotential [V]\") # sobrepotencial aplicado\n",
    "F = pybamm.Parameter(\"Faraday constant [C.mol-1]\")\n",
    "R = pybamm.Parameter(\"Molar gas constant [J.K-1.mol-1]\")\n",
    "T = pybamm.Parameter(\"Temperature [K]\")"
   ]
  },
  {
   "cell_type": "markdown",
   "metadata": {
    "id": "Kb-BxPGGHbDE"
   },
   "source": [
    "As equações são definidas em termos do fluxo e do divergente e adicionadas ao dicionário `model.rhs`"
   ]
  },
  {
   "cell_type": "code",
   "execution_count": 4,
   "metadata": {
    "id": "Jq7wl5adHbDF"
   },
   "outputs": [],
   "source": [
    "No = - pybamm.grad(co)  # define o fluxo de O\n",
    "Nr = -pybamm.grad(cr) # define o fluxo de R\n",
    "rhso = -pybamm.div(No)  # define o lado direito da equação 1.0a\n",
    "rhsr = -pybamm.div(Nr) # define o lado direito da equação 1.0b\n",
    "\n",
    "model.rhs = {co: rhso, cr: rhsr}  # adicona as equações ao dicionário"
   ]
  },
  {
   "cell_type": "markdown",
   "metadata": {
    "id": "08AeFiJEHbDF"
   },
   "source": [
    "Introduzindo as condições iniciais e de contorno:"
   ]
  },
  {
   "cell_type": "code",
   "execution_count": 5,
   "metadata": {
    "id": "53eal4z-HbDG"
   },
   "outputs": [],
   "source": [
    "# condições iniciais\n",
    "model.initial_conditions = {co: pybamm.Scalar(1), cr:pybamm.Scalar(0)}\n",
    "\n",
    "# boundary conditions\n",
    "f = F/(R*T)\n",
    "teta = pybamm.exp(f*eta)\n",
    "left_co = teta/(1+teta) # equação 1.3a. Valor de co na interface\n",
    "left_cr = 1/(1+teta) # equação 1.3b. Valor de cr na interface\n",
    "right_co = pybamm.Scalar(1) # equação 1.2a. Valor de co no seio da solução.\n",
    "right_cr = pybamm.Scalar(0) # equação 1.2b. Valor de cr no seio da solução.\n",
    "model.boundary_conditions = {co: {\"left\": (left_co, \"Dirichlet\"), \"right\": (right_co, \"Dirichlet\")},\n",
    "                             cr: {\"left\": (left_cr, \"Dirichlet\"), \"right\": (right_cr, \"Dirichlet\")}}\n",
    "#Dirichlet refere-se à condições de contorno que determinam o valor das variáveis co e cr na fronteira."
   ]
  },
  {
   "cell_type": "markdown",
   "metadata": {
    "id": "i46lK67THbDG"
   },
   "source": [
    "Adicionando as variáveis de interesse ao dicionário `model.variables`. "
   ]
  },
  {
   "cell_type": "code",
   "execution_count": 6,
   "metadata": {
    "id": "RXoUL6XyHbDH"
   },
   "outputs": [],
   "source": [
    "model.variables = {\"Concentration of O\": co, \"Flux of O\": No, \"Concentration of R\": cr, \"Flux of R\": Nr}"
   ]
  },
  {
   "cell_type": "markdown",
   "metadata": {
    "id": "CiqF84-8HbDH"
   },
   "source": [
    "## Usando o modelo"
   ]
  },
  {
   "cell_type": "markdown",
   "metadata": {
    "id": "chp9R4e8HbDI"
   },
   "source": [
    "### Definindo a geometria e a malha\n",
    "\n",
    "As variáveis espaciais são definidas independentemente das variáveis do modelo. O domínio 1D varia no intervalo $0 \\le x \\le 6$. \"eta\" é deixado como input para permitir simulações com diferentes sobrepotenciais aplicados."
   ]
  },
  {
   "cell_type": "code",
   "execution_count": 7,
   "metadata": {},
   "outputs": [],
   "source": [
    "param = pybamm.ParameterValues(\n",
    "    {\n",
    "        \"Applied Overpotential [V]\": \"[input]\",\n",
    "        \"Faraday constant [C.mol-1]\": 96485.3,\n",
    "        \"Molar gas constant [J.K-1.mol-1]\": 8.31446,\n",
    "        \"Temperature [K]\": 298.15\n",
    "    }\n",
    ")"
   ]
  },
  {
   "cell_type": "code",
   "execution_count": 8,
   "metadata": {
    "id": "CYw0af2vHbDI"
   },
   "outputs": [],
   "source": [
    "# define geometry\n",
    "x = pybamm.SpatialVariable(\n",
    "    \"x\", domain=[\"electrolyte\"], coord_sys=\"cartesian\"\n",
    ")\n",
    "geometry = {\"electrolyte\": {x: {\"min\": pybamm.Scalar(0), \"max\": pybamm.Scalar(6)}}}"
   ]
  },
  {
   "cell_type": "code",
   "execution_count": 9,
   "metadata": {},
   "outputs": [],
   "source": [
    "param.process_model(model)\n",
    "param.process_geometry(geometry)"
   ]
  },
  {
   "cell_type": "markdown",
   "metadata": {
    "id": "LUEjET8AHbDI"
   },
   "source": [
    "Criando uma malha uniforme. A implementar : malha com expansão exponencial. (ver descrição abaixo)"
   ]
  },
  {
   "cell_type": "code",
   "execution_count": 10,
   "metadata": {
    "id": "WCbEMr3aHbDJ"
   },
   "outputs": [],
   "source": [
    "# mesh and discretise\n",
    "submesh_types = {\"electrolyte\": pybamm.Uniform1DSubMesh}\n",
    "var_pts = {x: 400}\n",
    "mesh = pybamm.Mesh(geometry, submesh_types, var_pts)"
   ]
  },
  {
   "cell_type": "markdown",
   "metadata": {
    "id": "p8MyMrDjHbDJ"
   },
   "source": [
    "Example of meshes that do require parameters include the `pybamm.Exponential1DSubMesh` which clusters points close to one or both boundaries using an exponential rule. It takes a parameter which sets how closely the points are clustered together, and also lets the users select the side on which more points should be clustered. For example, to create a mesh with more nodes clustered to the right (i.e. the surface in the particle problem), using a stretch factor of 2, we pass an instance of the exponential submesh class and a dictionary of parameters into the `MeshGenerator` class as follows: `pybamm.MeshGenerator(pybamm.Exponential1DSubMesh, submesh_params={\"side\": \"right\", \"stretch\": 2})`"
   ]
  },
  {
   "cell_type": "markdown",
   "metadata": {
    "id": "gSUZUptCHbDJ"
   },
   "source": [
    "Discretizando por Volumes Finito. A testar: Elementos finitos."
   ]
  },
  {
   "cell_type": "code",
   "execution_count": 11,
   "metadata": {
    "id": "7A_pVsMzHbDK"
   },
   "outputs": [],
   "source": [
    "spatial_methods = {\"electrolyte\": pybamm.FiniteVolume()}\n",
    "disc = pybamm.Discretisation(mesh, spatial_methods)\n",
    "disc.process_model(model);"
   ]
  },
  {
   "cell_type": "markdown",
   "metadata": {
    "id": "KMgSuKPLHbDK"
   },
   "source": [
    "### Resolvendo o modelo\n",
    "Você pode obter soluções para valores inseridos para o sobrepotencial"
   ]
  },
  {
   "cell_type": "markdown",
   "metadata": {
    "id": "wXFVNWMTHbDL"
   },
   "source": [
    "O Solver ScipySolver é escolhido. Outras opções?. Definindo a malha uniforme no tempo. Como é feita a discretização no tempo? Como tratar stiff problems?  A implementar: comparação com soluções analiticas para corrente e concentração. "
   ]
  },
  {
   "cell_type": "code",
   "execution_count": 12,
   "metadata": {
    "colab": {
     "base_uri": "https://localhost:8080/",
     "height": 332
    },
    "id": "FiG9ch1xHbDL",
    "outputId": "968ede07-fe47-4057-d1b6-cd03b4f2f199",
    "scrolled": true
   },
   "outputs": [
    {
     "data": {
      "application/vnd.jupyter.widget-view+json": {
       "model_id": "fddf923de5044f3db79adac74004a6ed",
       "version_major": 2,
       "version_minor": 0
      },
      "text/plain": [
       "Text(value='-0.5', continuous_update=False, description='entre $ E_i $ em V :', style=TextStyle(description_wi…"
      ]
     },
     "metadata": {},
     "output_type": "display_data"
    },
    {
     "data": {
      "application/vnd.jupyter.widget-view+json": {
       "model_id": "b250c0bc81f744d6adb2d243162aa5d2",
       "version_major": 2,
       "version_minor": 0
      },
      "text/plain": [
       "Text(value='0.5', continuous_update=False, description='entre $ E_f $ em V :', style=TextStyle(description_wid…"
      ]
     },
     "metadata": {},
     "output_type": "display_data"
    },
    {
     "data": {
      "application/vnd.jupyter.widget-view+json": {
       "model_id": "d11214f45fde42758ec6cfd257bcca6a",
       "version_major": 2,
       "version_minor": 0
      },
      "text/plain": [
       "Text(value='0', continuous_update=False, description='entre $ E^0 $ em V :', style=TextStyle(description_width…"
      ]
     },
     "metadata": {},
     "output_type": "display_data"
    },
    {
     "data": {
      "application/vnd.jupyter.widget-view+json": {
       "model_id": "e92d44cf3b104ebdb81fd58ac5867855",
       "version_major": 2,
       "version_minor": 0
      },
      "text/plain": [
       "Text(value='5', continuous_update=False, description='entre no de ptos :', style=TextStyle(description_width='…"
      ]
     },
     "metadata": {},
     "output_type": "display_data"
    },
    {
     "data": {
      "application/vnd.jupyter.widget-view+json": {
       "model_id": "8da86336541943e8b47ada357bd97be0",
       "version_major": 2,
       "version_minor": 0
      },
      "text/plain": [
       "Button(description='Recalcular', style=ButtonStyle())"
      ]
     },
     "metadata": {},
     "output_type": "display_data"
    },
    {
     "data": {
      "application/vnd.jupyter.widget-view+json": {
       "model_id": "01a4064058f04cc2b231db075b525abe",
       "version_major": 2,
       "version_minor": 0
      },
      "text/plain": [
       "Output()"
      ]
     },
     "metadata": {},
     "output_type": "display_data"
    }
   ],
   "source": [
    "from ipywidgets import interact, Text, Layout, Button, Output\n",
    "from IPython.display import display, clear_output\n",
    "\n",
    "# solução\n",
    "solver = pybamm.ScipySolver()\n",
    "t = np.linspace(0.00001, 1, 1000)\n",
    "f = 38.9217\n",
    "\n",
    "output = Output() # define um widget output para capturar o gráfico e depois mostrá-lo com display\n",
    "\n",
    "def plot_solution(ei,ef,e0,npts):\n",
    "    with output:\n",
    "        clear_output(wait=True) # limpa gráficos anteriormente gerados\n",
    "        try:\n",
    "            ei = float(ei)  # Garante que a entrada seja um número válido.\n",
    "            ef = float(ef)\n",
    "            e0 = float(e0)\n",
    "            npts=int(npts)\n",
    "        except ValueError:\n",
    "            print(\"Por favor, insira um número válido\")\n",
    "            return\n",
    "    \n",
    "        interval = ef-ei\n",
    "        delta = interval/npts\n",
    "        es = np.arange(ei,ef+delta,delta) #potenciais dos saltos\n",
    "        i_smp = [] # armazena as correntes amostradas\n",
    "        for e_ap in es:\n",
    "            solution = solver.solve(model, t, inputs={\"Applied Overpotential [V]\": e_ap-e0}) #resolve para cada potencial\n",
    "            No_sol = solution[\"Flux of O\"]\n",
    "            i_smp.append(-No_sol(1,x=0)*np.sqrt(np.pi)) #divide pela corrente limite (condição de Cottrell) e armazena\n",
    "        \n",
    "        # plot\n",
    "        fig, ax1 = plt.subplots()\n",
    "\n",
    "        ax1.plot(es,i_smp,\"r-\",linewidth=1.5)\n",
    "        ax1.set_xlabel(\"E / V\")\n",
    "        ax1.set_ylabel(\"Corrente\")\n",
    "        ax1.set_xlim([ef+interval/10,ei-interval/10])\n",
    "        plt.tight_layout()\n",
    "        plt.show()\n",
    "\n",
    "# Cria um Text widget para número de pontos\n",
    "npts_input = Text(value='5', description= 'entre no de ptos :', continuous_update=False,\n",
    "                style={'description_width':'initial'})\n",
    "\n",
    "# Cria um Text widget para entrada do potencial inicial\n",
    "ei_input = Text(value='-0.5', description= 'entre $ E_i $ em V :', continuous_update=False,\n",
    "                style={'description_width':'initial'})\n",
    "\n",
    "# Cria um Text widget para entrada do potencial final\n",
    "ef_input = Text(value='0.5', description= 'entre $ E_f $ em V :', continuous_update=False,\n",
    "                style={'description_width':'initial'})\n",
    "\n",
    "# Cria um Text widget para entrada do potencial padrão\n",
    "e0_input = Text(value='0', description= 'entre $ E^0 $ em V :', continuous_update=False,\n",
    "                style={'description_width':'initial'})\n",
    "\n",
    "# Cria um botão para recalcular a função\n",
    "run_button = Button(description=\"Recalcular\")\n",
    "\n",
    "# Define um manipulador de eventos para o click no botão\n",
    "def on_button_click(b):\n",
    "    ei = ei_input.value\n",
    "    ef = ef_input.value\n",
    "    e0 = e0_input.value\n",
    "    npts = npts_input.value\n",
    "    if ei and ef and e0 and npts:  # Ensure both values are entered\n",
    "        plot_solution(ei,ef,e0,npts)\n",
    "        \n",
    "# Link o click do botão com o manipulador de eventos\n",
    "run_button.on_click(on_button_click)\n",
    "\n",
    "# Mostra o gráfico default na primeira execução\n",
    "plot_solution(ei_input.value, ef_input.value,e0_input.value,npts_input.value)\n",
    "\n",
    "# mostra os widgets, incluindo o output\n",
    "display(ei_input, ef_input, e0_input, npts_input, run_button, output)\n",
    "\n"
   ]
  }
 ],
 "metadata": {
  "colab": {
   "provenance": []
  },
  "kernelspec": {
   "display_name": "Python 3 (ipykernel)",
   "language": "python",
   "name": "python3"
  },
  "language_info": {
   "codemirror_mode": {
    "name": "ipython",
    "version": 3
   },
   "file_extension": ".py",
   "mimetype": "text/x-python",
   "name": "python",
   "nbconvert_exporter": "python",
   "pygments_lexer": "ipython3",
   "version": "3.11.10"
  },
  "toc": {
   "base_numbering": 1,
   "nav_menu": {},
   "number_sections": true,
   "sideBar": true,
   "skip_h1_title": false,
   "title_cell": "Table of Contents",
   "title_sidebar": "Contents",
   "toc_cell": false,
   "toc_position": {},
   "toc_section_display": true,
   "toc_window_display": true
  }
 },
 "nbformat": 4,
 "nbformat_minor": 4
}

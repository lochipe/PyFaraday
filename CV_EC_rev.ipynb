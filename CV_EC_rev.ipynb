{
 "cells": [
  {
   "cell_type": "markdown",
   "metadata": {
    "id": "dP2qVBlQHbC8"
   },
   "source": [
    "# Voltametria cíclica reversível com reação química homogênea acoplada\n",
    "Assumindo a transferência reversível de 1 elétron seguida por uma reação química homogênea em equilíbrio:\n",
    "$$\n",
    "\\text{O} + \\text{ne}^- \\rightleftharpoons \\text{R}\n",
    "$$\n",
    "$$\n",
    "\\text{R} \\leftrightharpoons \\text{P}\n",
    "$$\n",
    "Assumindo eletrodo planar e considerando que as espécies O e R tem o mesmo coeficiente de difusão, $ \\text{para} \\quad  0\\le \\tau \\le \\tau_s \\quad \n",
    "  \\text{e} \\quad 0 \\le y \\le 6 \\sqrt{D \\tau_s}$:\n",
    "\n",
    "\\begin{align}\n",
    "  \\frac{\\partial c_O}{\\partial \\tau} &= D \\frac{\\partial^2 c_O}{\\partial y^2} \\\\\n",
    "  \\frac{\\partial c_R}{\\partial \\tau} &= D \\frac{\\partial^2 c_R}{\\partial y^2} \\\\\n",
    "  \\frac{\\partial c_P}{\\partial \\tau} &= D \\frac{\\partial^2 c_P}{\\partial y^2}\n",
    "\\end{align}\n",
    "\n",
    "As condições inciais, assumindo R e P inicialmente ausentes, são:\n",
    "\\begin{align}\n",
    "C_O(y,0) &= C_O^* \\\\\n",
    "C_R(y,0) &= 0 \\\\\n",
    "C_P(y,0) &= 0\n",
    "\\end{align}\n",
    "\n",
    "A difusão semi-infinita é aplicada no seio da solução:\n",
    "\\begin{align} \n",
    "\\lim_{y \\to \\infty} C_O(y,\\tau) &= C_O^* \\\\\n",
    "\\lim_{y \\to \\infty} C_R(y,\\tau) &= 0 \\\\\n",
    "\\lim_{y \\to \\infty} C_P(y,\\tau) &= 0\n",
    "\\end{align}\n",
    "\n",
    "A condição de equilíbrio interfacial (equação de Nernst) e equilíbrio homogêneo (cte de equilíbrio) são aplicadas na interface:\n",
    "\n",
    "\\begin{align}\n",
    "E(t) &= E_i + v\\tau, \\quad \\text{se} \\quad \\tau \\leq \\tau_\\lambda \\\\ \n",
    "E(t) &= E_f - v(\\tau-\\tau_\\lambda), \\quad \\text{se} \\quad \\tau_\\lambda \\leq \\tau \\leq 2\\tau_\\lambda\n",
    "\\end{align}\n",
    "onde $v$ é a velocidade de varredura.\n",
    "\\begin{equation}\n",
    "\\theta = \\exp \\left(\\frac{F}{RT}(E-E^0) \\right)\n",
    "\\end{equation}\n",
    "\n",
    "\\begin{align}\n",
    "C_O(0,\\tau) &= \\frac{\\theta}{1+\\theta+K}  \\quad \\text{para} \\, \\tau>0 \\\\\n",
    "C_R(0,\\tau) &= \\frac{1}{1+\\theta+K} \\quad \\text{para} \\, \\tau>0 \\\\\n",
    "C_P(0,\\tau) &= \\frac{K}{1+\\theta+K} \\quad \\text{para} \\, \\tau>0\n",
    "\\end{align}\n",
    "\n",
    "Definindo as seguintes transformações de variáveis:\n",
    "\n",
    "\\begin{equation*}\n",
    "x=\\frac{y}{\\sqrt{D \\tau_s}}, \\quad \\tau_s = 1/fv\n",
    "\\end{equation*}\n",
    "\n",
    "\\begin{equation*}\n",
    "t=\\frac{\\tau}{\\tau_s}\n",
    "\\end{equation*}\n",
    "\n",
    "\\begin{equation*}\n",
    "c_{O,R,P}=\\frac{C_{O,R,P}}{C_O^*}\n",
    "\\end{equation*}\n",
    "\n",
    "\\begin{equation}\n",
    "\\eta = f(E-E^0)\n",
    "\\end{equation}\n",
    "\n",
    "\\begin{equation}\n",
    "f = \\frac{F}{RT}\n",
    "\\end{equation}\n",
    "\n",
    "\\begin{equation}\n",
    "r = \\frac{D_P}{D}\n",
    "\\end{equation}\n",
    "\n",
    "As equações ficam, $ \\quad \\text {para} \\quad 0 \\le t \\quad \\text{e} \\quad 0 \\le x \\le 6$:\n",
    "\n",
    "\\begin{align}\n",
    "\\tag{1.0a} \n",
    "\\frac{\\partial c_O}{\\partial t} &=  \\frac{\\partial^2 c_O}{\\partial x^2} \\\\\n",
    "\\tag{1.0b}\n",
    "\\frac{\\partial c_R}{\\partial t} &=  \\frac{\\partial^2 c_R}{\\partial x^2} \\\\\n",
    "\\tag{1.0c}\n",
    "\\frac{\\partial c_P}{\\partial t} &=  r \\frac{\\partial^2 c_P}{\\partial x^2}\n",
    "\\end{align}\n",
    "\n",
    "E as condições iniciais e de contorno ficam:\n",
    "\n",
    "\\begin{align}\n",
    "\\tag{1.1a}\n",
    "c_O(x,0)&=1 \\\\\n",
    "\\tag{1.1b}\n",
    "c_R(x,0)&=0  \\\\\n",
    "\\tag{1.1c}\n",
    "c_P(x,0)&=0\n",
    "\\end{align}\n",
    "\n",
    "\\begin{align}\n",
    "\\tag{1.2a}\n",
    "\\lim_{x \\to \\infty} c_O(x,t) &= 1 \\\\\n",
    "\\tag{1.2b}\n",
    "\\lim_{x \\to \\infty} c_R(x,t) &= 0 \\\\\n",
    "\\tag{1.2c}\n",
    "\\lim_{x \\to \\infty} c_P(x,t) &= 0\n",
    "\\end{align}\n",
    "\n",
    "\\begin{align}\n",
    "\\eta &= \\eta_i + t \\\\\n",
    "\\theta &= \\exp (f\\eta) \\\\\n",
    "\\tag{1.3a}\n",
    "c_O(0,t) &= \\frac{\\theta}{1+\\theta+K} \\\\\n",
    "\\tag{1.3b}\n",
    "c_R(0,t) &= \\frac{1}{1+\\theta+K} \\\\\n",
    "\\tag{1.3c}\n",
    "c_P(0,t) &= \\frac{K}{1+\\theta+K}\n",
    "\\end{align}\n",
    "\n",
    "A densidade de corrente é limitada pelo fluxo difusional, logo:\n",
    "\\begin{equation*}\n",
    "j(\\tau) = nFD \\left ( \\frac{\\partial C_O}{\\partial y} \\right )_{y=0} = nFD\\frac{C_O^*}{\\sqrt{D\\tau_s}} \\left ( \\frac{\\partial c}{\\partial x} \\right )_{x=0}\n",
    "\\end{equation*}\n",
    "\n",
    "Definindo a corrente adimensional como $i(t)=\\frac{j(\\tau)}{nFD} \\frac{\\sqrt{D\\tau}}{C_O^*}$:\n",
    "\\begin{equation*}\n",
    "\\tag{3.0}\n",
    "i(t)=\\left ( \\frac{\\partial c}{\\partial x} \\right )_{x=0}\n",
    "\\end{equation*}\n",
    "\n",
    "Iniciamos importando as bibliotecas do pybamm e do python necessárias:\n",
    "As equações são as mesmas da voltametria de corrente amostrada, porém o potencial varia linearmente segundo a equação:"
   ]
  },
  {
   "cell_type": "code",
   "execution_count": 1,
   "metadata": {
    "colab": {
     "base_uri": "https://localhost:8080/"
    },
    "id": "33zzyQClHbDA",
    "outputId": "6ffdebb5-1cb9-4bdb-ddd8-3ebb36276d02"
   },
   "outputs": [],
   "source": [
    "import pybamm\n",
    "import numpy as np\n",
    "import matplotlib.pyplot as plt\n",
    "import sympy as sy\n",
    "import math\n",
    "from scipy import special"
   ]
  },
  {
   "cell_type": "markdown",
   "metadata": {
    "id": "GE5PRWCNHbDC"
   },
   "source": [
    "## Definindo o modelo"
   ]
  },
  {
   "cell_type": "markdown",
   "metadata": {
    "id": "Z2XjCy5kHbDD"
   },
   "source": [
    "Definindo a variável do modelo e a qual domínio ela pertence:"
   ]
  },
  {
   "cell_type": "code",
   "execution_count": 2,
   "metadata": {
    "id": "grWOj8UyHbDE"
   },
   "outputs": [],
   "source": [
    "model = pybamm.BaseModel()\n",
    "\n",
    "co = pybamm.Variable(\"Concentration of O\", domain=\"electrolyte\")\n",
    "cr = pybamm.Variable(\"Concentration of R\", domain=\"electrolyte\")\n",
    "cp = pybamm.Variable(\"Concentration of P\", domain=\"electrolyte\")"
   ]
  },
  {
   "cell_type": "markdown",
   "metadata": {
    "id": "Z2XjCy5kHbDD"
   },
   "source": [
    "Definindo os parâmetros do modelo (Ei, Ef, e v agora são tratados como parâmetros do modelo, pois $\\eta$ varia com o tempo):"
   ]
  },
  {
   "cell_type": "code",
   "execution_count": 3,
   "metadata": {},
   "outputs": [],
   "source": [
    "Ei = pybamm.Parameter(\"Init Potential [V]\")\n",
    "Ef = pybamm.Parameter(\"Final Potential [V]\")\n",
    "E0 = pybamm.Parameter(\"Standard Potential [V]\")\n",
    "v = pybamm.Parameter(\"Scan rate [V.s-1]\")\n",
    "F = pybamm.Parameter(\"Faraday constant [C.mol-1]\")\n",
    "R = pybamm.Parameter(\"Molar gas constant [J.K-1.mol-1]\")\n",
    "T = pybamm.Parameter(\"Temperature [K]\")\n",
    "r = pybamm.Parameter(\"D ratio\")\n",
    "K = pybamm.Parameter(\"Equilibrium constant\")"
   ]
  },
  {
   "cell_type": "markdown",
   "metadata": {
    "id": "Kb-BxPGGHbDE"
   },
   "source": [
    "As equações são definidas em termos do fluxo e do divergente e adicionadas ao dicionário `model.rhs`"
   ]
  },
  {
   "cell_type": "code",
   "execution_count": 4,
   "metadata": {
    "id": "Jq7wl5adHbDF"
   },
   "outputs": [],
   "source": [
    "No = - pybamm.grad(co)  \n",
    "Nr = -pybamm.grad(cr)\n",
    "Np = -pybamm.grad(cp)\n",
    "rhs_o = -pybamm.div(No)  \n",
    "rhs_r = -pybamm.div(Nr)\n",
    "rhs_p = -r*pybamm.div(Np)\n",
    "\n",
    "model.rhs = {co: rhs_o, cr: rhs_r, cp: rhs_p}  # add the equation to rhs dictionary"
   ]
  },
  {
   "cell_type": "markdown",
   "metadata": {
    "id": "08AeFiJEHbDF"
   },
   "source": [
    "Introduzindo as condições iniciais e de contorno:"
   ]
  },
  {
   "cell_type": "code",
   "execution_count": 5,
   "metadata": {
    "id": "53eal4z-HbDG"
   },
   "outputs": [],
   "source": [
    "# initial conditions\n",
    "model.initial_conditions = {co: pybamm.Scalar(1), cr:pybamm.Scalar(0), cp:pybamm.Scalar(0)}\n",
    "\n",
    "# boundary conditions\n",
    "f = F/(R*T)\n",
    "tf = 2*(Ef-Ei)/v\n",
    "cosseno=pybamm.cos((np.pi / tf) * pybamm.t)\n",
    "seno = pybamm.sin((np.pi/tf)*pybamm.t)\n",
    "E =  Ei + (2 * (Ef-Ei) / np.pi) * np.abs(pybamm.arctan(seno/cosseno))\n",
    "eta = E - E0\n",
    "teta = pybamm.exp(f*eta)\n",
    "left_co = teta/(1+teta+K) # Surface concentration by Nernst equation\n",
    "left_cr = 1/(1+teta+K) # Surface concentration by Nernst equation\n",
    "left_cp = K/(1+teta+K)\n",
    "right_co = pybamm.Scalar(1) #semi-infinite diffusion\n",
    "right_cr = pybamm.Scalar(0) #semi-infinite diffusion\n",
    "right_cp = pybamm.Scalar(0)\n",
    "model.boundary_conditions = {co: {\"left\": (left_co, \"Dirichlet\"), \"right\": (right_co, \"Dirichlet\")},\n",
    "                             cr: {\"left\": (left_cr, \"Dirichlet\"), \"right\": (right_cr, \"Dirichlet\")},\n",
    "                             cp: {\"left\": (left_cp, \"Dirichlet\"), \"right\": (right_cp, \"Dirichlet\")}}"
   ]
  },
  {
   "cell_type": "markdown",
   "metadata": {
    "id": "i46lK67THbDG"
   },
   "source": [
    "Adicionando as variáveis de interesse ao dicionário `model.variables`. $\\eta$ é adicionado para plotar o voltamograma no pós-processamento."
   ]
  },
  {
   "cell_type": "code",
   "execution_count": 6,
   "metadata": {
    "id": "RXoUL6XyHbDH"
   },
   "outputs": [],
   "source": [
    "model.variables = {\"Concentration of O\": co, \"Flux of O\": No, \n",
    "                   \"Concentration of R\": co, \"Flux of R\": Nr, \n",
    "                   \"Concentration of P\": cp, \"Flux of P\": Np,\n",
    "                   \"Applied potential\": E}"
   ]
  },
  {
   "cell_type": "markdown",
   "metadata": {
    "id": "CiqF84-8HbDH"
   },
   "source": [
    "## Usando o modelo"
   ]
  },
  {
   "cell_type": "markdown",
   "metadata": {
    "id": "chp9R4e8HbDI"
   },
   "source": [
    "### Definindo a geometria e a malha\n",
    "\n",
    "As variáveis espaciais são definidas independentemente das variáveis do modelo. O domínio 1D varia no intervalo $0 \\le x \\le 6$."
   ]
  },
  {
   "cell_type": "code",
   "execution_count": 7,
   "metadata": {},
   "outputs": [],
   "source": [
    "param = pybamm.ParameterValues(\n",
    "    {\n",
    "        \"Init Potential [V]\": \"[input]\",\n",
    "        \"Final Potential [V]\": \"[input]\",\n",
    "        \"Standard Potential [V]\": \"[input]\",\n",
    "        \"Scan rate [V.s-1]\": \"[input]\",\n",
    "        \"Faraday constant [C.mol-1]\": 96485.3,\n",
    "        \"Molar gas constant [J.K-1.mol-1]\": 8.31446,\n",
    "        \"Temperature [K]\": 298.15,\n",
    "        \"D ratio\": 1,\n",
    "        \"Equilibrium constant\": \"[input]\"\n",
    "    }\n",
    ")"
   ]
  },
  {
   "cell_type": "code",
   "execution_count": 8,
   "metadata": {
    "id": "CYw0af2vHbDI"
   },
   "outputs": [],
   "source": [
    "# define geometry\n",
    "x = pybamm.SpatialVariable(\n",
    "    \"x\", domain=[\"electrolyte\"], coord_sys=\"cartesian\"\n",
    ")\n",
    "geometry = {\"electrolyte\": {x: {\"min\": pybamm.Scalar(0), \"max\": pybamm.Scalar(6)}}}"
   ]
  },
  {
   "cell_type": "code",
   "execution_count": 9,
   "metadata": {},
   "outputs": [],
   "source": [
    "param.process_model(model)\n",
    "param.process_geometry(geometry)"
   ]
  },
  {
   "cell_type": "markdown",
   "metadata": {
    "id": "LUEjET8AHbDI"
   },
   "source": [
    "Criando uma malha uniforme. A implementar : malha com expansão exponencial. (ver descrição abaixo)"
   ]
  },
  {
   "cell_type": "code",
   "execution_count": 10,
   "metadata": {
    "id": "WCbEMr3aHbDJ"
   },
   "outputs": [],
   "source": [
    "# mesh and discretise\n",
    "submesh_types = {\"electrolyte\": pybamm.Uniform1DSubMesh}\n",
    "var_pts = {x: 400}\n",
    "mesh = pybamm.Mesh(geometry, submesh_types, var_pts)"
   ]
  },
  {
   "cell_type": "markdown",
   "metadata": {
    "id": "p8MyMrDjHbDJ"
   },
   "source": [
    "Example of meshes that do require parameters include the `pybamm.Exponential1DSubMesh` which clusters points close to one or both boundaries using an exponential rule. It takes a parameter which sets how closely the points are clustered together, and also lets the users select the side on which more points should be clustered. For example, to create a mesh with more nodes clustered to the right (i.e. the surface in the particle problem), using a stretch factor of 2, we pass an instance of the exponential submesh class and a dictionary of parameters into the `MeshGenerator` class as follows: `pybamm.MeshGenerator(pybamm.Exponential1DSubMesh, submesh_params={\"side\": \"right\", \"stretch\": 2})`"
   ]
  },
  {
   "cell_type": "markdown",
   "metadata": {
    "id": "gSUZUptCHbDJ"
   },
   "source": [
    "Discretizando por Volumes Finito. A testar: Elementos finitos."
   ]
  },
  {
   "cell_type": "code",
   "execution_count": 11,
   "metadata": {
    "id": "7A_pVsMzHbDK"
   },
   "outputs": [],
   "source": [
    "spatial_methods = {\"electrolyte\": pybamm.FiniteVolume()}\n",
    "disc = pybamm.Discretisation(mesh, spatial_methods)\n",
    "disc.process_model(model);"
   ]
  },
  {
   "cell_type": "markdown",
   "metadata": {
    "id": "KMgSuKPLHbDK"
   },
   "source": [
    "### Resolvendo o modelo"
   ]
  },
  {
   "cell_type": "markdown",
   "metadata": {
    "id": "wXFVNWMTHbDL"
   },
   "source": [
    "O Solver ScipySolver é escolhido. Outras opções?. Definindo a malha uniforme no tempo. Como é feita a discretização no tempo? Como tratar stiff problems?  A implementar: comparação com soluções analiticas para corrente e concentração. "
   ]
  },
  {
   "cell_type": "code",
   "execution_count": 12,
   "metadata": {
    "colab": {
     "base_uri": "https://localhost:8080/",
     "height": 332
    },
    "id": "FiG9ch1xHbDL",
    "outputId": "968ede07-fe47-4057-d1b6-cd03b4f2f199"
   },
   "outputs": [
    {
     "data": {
      "image/png": "[encoded data removed]",
      "text/plain": [
       "<Figure size 1000x300 with 2 Axes>"
      ]
     },
     "metadata": {},
     "output_type": "display_data"
    }
   ],
   "source": [
    "# soluções variando a velocidade de varredura e a constante de equilíbrio.\n",
    "f=38.9217\n",
    "solver = pybamm.ScipySolver()\n",
    "currents_v = []\n",
    "currents_K = []\n",
    "potentials_v = []\n",
    "potentials_K = []\n",
    "labels_v=[]\n",
    "labels_K=[]\n",
    "elow=0.3 # init potential\n",
    "ehigh=-0.3 # end potential\n",
    "\n",
    "# soluções variando v\n",
    "vs = [ -0.05, -0.1, -0.5] # sweep rates\n",
    "Keq = 10\n",
    "for v in vs:\n",
    "    tf=2*(ehigh-elow)/v\n",
    "    t = np.linspace(0, tf, 1000)\n",
    "    solution = solver.solve(model, t, inputs={\"Init Potential [V]\": elow, \n",
    "                                              \"Final Potential [V]\": ehigh, \n",
    "                                              \"Standard Potential [V]\": 0, \n",
    "                                              \"Scan rate [V.s-1]\": v,\n",
    "                                              \"Equilibrium constant\": Keq})\n",
    "    Na_sol = solution[\"Flux of O\"]\n",
    "    e_sol = solution[\"Applied potential\"]\n",
    "    i = -Na_sol(solution.t,x=0)\n",
    "    E = e_sol(solution.t)\n",
    "    currents_v.append(i)\n",
    "    potentials_v.append(E)\n",
    "    labels_v.append(str(v))\n",
    "\n",
    "#soluções variando K\n",
    "ks = [0.1, 10, 1000]\n",
    "v = -0.1\n",
    "for Keq in ks:\n",
    "    tf=2*(ehigh-elow)/v\n",
    "    t = np.linspace(0, tf, 1000)\n",
    "    solution = solver.solve(model, t, inputs={\"Init Potential [V]\": elow, \n",
    "                                              \"Final Potential [V]\": ehigh, \n",
    "                                              \"Standard Potential [V]\": 0, \n",
    "                                              \"Scan rate [V.s-1]\": v,\n",
    "                                              \"Equilibrium constant\": Keq})\n",
    "    Na_sol = solution[\"Flux of O\"]\n",
    "    e_sol = solution[\"Applied potential\"]\n",
    "    i = -Na_sol(solution.t,x=0)\n",
    "    E = e_sol(solution.t)\n",
    "    currents_K.append(i)\n",
    "    potentials_K.append(E)\n",
    "    labels_K.append(str(Keq))\n",
    "\n",
    "\n",
    "    \n",
    "# plot\n",
    "fig, (ax1,ax2) = plt.subplots(1, 2, figsize=(10, 3))\n",
    "\n",
    "ax1.plot(potentials_v[0],currents_v[0],label=\"v=\"+labels_v[0])\n",
    "ax1.plot(potentials_v[1],currents_v[1],label=\"v=\"+labels_v[1])\n",
    "ax1.plot(potentials_v[2],currents_v[2],label=\"v=\"+labels_v[2])\n",
    "ax1.set_xlabel(\"E-E0 / V\")\n",
    "ax1.set_ylabel(\"$i$\")\n",
    "ax1.set_xlim([elow,ehigh])\n",
    "#ax1.set_ylim([0,6])\n",
    "#plt.tight_layout()\n",
    "\n",
    "ax2.plot(potentials_K[0],currents_K[0],label=\"$K_{eq}=$\"+labels_K[0])\n",
    "ax2.plot(potentials_K[1],currents_K[1],label=\"$K_{eq}=$\"+labels_K[1])\n",
    "ax2.plot(potentials_K[2],currents_K[2],label=\"$K_{eq}=$\"+labels_K[2])\n",
    "ax2.set_xlabel(\"E - E0 / V\")\n",
    "ax2.set_ylabel(\"$i$\")\n",
    "ax2.set_xlim([elow,ehigh])\n",
    "\n",
    "ax1.legend(loc=\"upper left\")\n",
    "ax2.legend(loc=\"lower right\")\n",
    "plt.show()"
   ]
  },
  {
   "cell_type": "code",
   "execution_count": null,
   "metadata": {},
   "outputs": [],
   "source": []
  }
 ],
 "metadata": {
  "colab": {
   "provenance": []
  },
  "kernelspec": {
   "display_name": "Python 3 (ipykernel)",
   "language": "python",
   "name": "python3"
  },
  "language_info": {
   "codemirror_mode": {
    "name": "ipython",
    "version": 3
   },
   "file_extension": ".py",
   "mimetype": "text/x-python",
   "name": "python",
   "nbconvert_exporter": "python",
   "pygments_lexer": "ipython3",
   "version": "3.11.10"
  },
  "toc": {
   "base_numbering": 1,
   "nav_menu": {},
   "number_sections": true,
   "sideBar": true,
   "skip_h1_title": false,
   "title_cell": "Table of Contents",
   "title_sidebar": "Contents",
   "toc_cell": false,
   "toc_position": {},
   "toc_section_display": true,
   "toc_window_display": true
  }
 },
 "nbformat": 4,
 "nbformat_minor": 4
}

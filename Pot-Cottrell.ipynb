{
 "cells": [
  {
   "cell_type": "markdown",
   "metadata": {
    "id": "dP2qVBlQHbC8"
   },
   "source": [
    "# Salto de potencial sob controle difusional - condição de Cottrell"
   ]
  },
  {
   "cell_type": "markdown",
   "metadata": {},
   "source": [
    "Assumindo a transferência reversível de 1 elétron:\n",
    "$$\n",
    "\\begin{equation*}\n",
    "\\text{O} + \\text{ne}^- \\rightleftharpoons \\text{R}\n",
    "\\end{equation*}\n",
    "$$"
   ]
  },
  {
   "cell_type": "markdown",
   "metadata": {
    "id": "PcWptQ8FHbC_"
   },
   "source": [
    "Assumindo eletrodo planar:\n",
    "\n",
    "\\begin{equation}\n",
    "  \\frac{\\partial c_O}{\\partial \\tau} = D_O \\frac{\\partial^2 c_O}{\\partial y^2} \\quad \\text{para} \\quad  0\\le \\tau \\le \\tau_s \\quad \\text{e} \\quad 0 \\le y \\le 6 \\sqrt{D \\tau_s}\n",
    "\\end{equation}\n",
    "com as seguintes condições iniciais e de contorno:\n",
    "\\begin{equation}\n",
    "C_O(y,0) = C_O^* \n",
    "\\end{equation}\n",
    "\\begin{equation*}\n",
    "\\lim_{y \\to \\infty} C_O(y,\\tau) = C_O^*\n",
    "\\end{equation*}\n",
    "\\begin{equation*}\n",
    "C_O(0,\\tau) = 0 \\: \\text{para} \\, \\tau>0\n",
    "\\end{equation*}\n",
    "\n",
    "Definindo as seguintes transformações de variáveis:\n",
    "\n",
    "\\begin{equation*}\n",
    "x=\\frac{y}{\\sqrt{D \\tau_s}}\n",
    "\\end{equation*}\n",
    "\n",
    "\\begin{equation*}\n",
    "t=\\frac{\\tau}{\\tau_s}\n",
    "\\end{equation*}\n",
    "\\begin{equation*}\n",
    "c=\\frac{C_O}{C_O^*}\n",
    "\\end{equation*}\n",
    "\n",
    "\n",
    "As equações ficam:\n",
    "\\begin{equation} \n",
    "\\tag{1.0}\n",
    "\\frac{\\partial c}{\\partial t} =  \\frac{\\partial^2 c}{\\partial x^2} \\quad \\text {para} \\quad 0 \\le t \\quad \\text{e} \\quad 0 \\le x \\le 6 \n",
    "\\end{equation}\n",
    "\n",
    "E as condições iniciais e de contorno ficam:\n",
    "\\begin{equation}\n",
    "\\tag{1.1}\n",
    "c(x,0)=1\n",
    "\\end{equation}\n",
    "\\begin{equation}\n",
    "\\tag{1.2}\n",
    "\\lim_{x \\to \\infty} c(x,t)=1\n",
    "\\end{equation}\n",
    "\\begin{equation}\n",
    "\\tag{1.3}\n",
    "c(0,t) = 0 \\: \\text{para} \\, t>0\n",
    "\\end{equation}\n",
    "\n",
    "A solução para a concentração é:\n",
    "\\begin{equation*}\n",
    "\\tag{2.0}\n",
    "c(x,t)= 1-erfc \\left ( \\frac{x}{2\\sqrt{t}} \\right )\n",
    "\\end{equation*}\n",
    "\n",
    "A densidade de corrente é limitada pelo fluxo difusional, logo:\n",
    "\\begin{equation*}\n",
    "j(\\tau) = nFD \\left ( \\frac{\\partial C_O}{\\partial y} \\right )_{y=0} = nFD\\frac{C_O^*}{\\sqrt{D\\tau}} \\left ( \\frac{\\partial c}{\\partial x} \\right )_{x=0}\n",
    "\\end{equation*}\n",
    "\n",
    "Definindo a corrente adimensional como $i(t)=\\frac{j(\\tau)}{nFD} \\frac{\\sqrt{D\\tau}}{C_O^*}$ e derivando a expressão da concentração:\n",
    "\\begin{equation*}\n",
    "\\tag{3.0}\n",
    "i(t)=\\frac{1}{\\sqrt{\\pi t}}\n",
    "\\end{equation*}\n",
    "\n",
    "Iniciamos importando as bibliotecas do pybamm e do python necessárias:\n"
   ]
  },
  {
   "cell_type": "code",
   "execution_count": 1,
   "metadata": {
    "colab": {
     "base_uri": "https://localhost:8080/"
    },
    "id": "33zzyQClHbDA",
    "outputId": "6ffdebb5-1cb9-4bdb-ddd8-3ebb36276d02"
   },
   "outputs": [],
   "source": [
    "import pybamm\n",
    "import numpy as np\n",
    "import matplotlib.pyplot as plt\n",
    "import sympy as sy\n",
    "import math\n",
    "from scipy import special"
   ]
  },
  {
   "cell_type": "markdown",
   "metadata": {
    "id": "GE5PRWCNHbDC"
   },
   "source": [
    "## Definindo o modelo"
   ]
  },
  {
   "cell_type": "markdown",
   "metadata": {
    "id": "Z2XjCy5kHbDD"
   },
   "source": [
    "Definindo a variável do modelo e a qual domínio ela pertence:"
   ]
  },
  {
   "cell_type": "code",
   "execution_count": 2,
   "metadata": {
    "id": "grWOj8UyHbDE"
   },
   "outputs": [],
   "source": [
    "model = pybamm.BaseModel()\n",
    "\n",
    "c = pybamm.Variable(\"Concentration\", domain=\"electrolyte\")"
   ]
  },
  {
   "cell_type": "markdown",
   "metadata": {
    "id": "Kb-BxPGGHbDE"
   },
   "source": [
    "As equações são definidas em termos do fluxo e do divergente e adicionadas ao dicionário `model.rhs`"
   ]
  },
  {
   "cell_type": "code",
   "execution_count": 3,
   "metadata": {
    "id": "Jq7wl5adHbDF"
   },
   "outputs": [],
   "source": [
    "N = - pybamm.grad(c)  # define o fluxo\n",
    "dcdt = -pybamm.div(N)  # define o lado esquerdo da equação diferencial (eq 1.0)\n",
    "\n",
    "model.rhs = {c: dcdt}  # adiciona ao dicionário rhs"
   ]
  },
  {
   "cell_type": "markdown",
   "metadata": {
    "id": "08AeFiJEHbDF"
   },
   "source": [
    "Introduzindo as condições iniciais e de contorno:"
   ]
  },
  {
   "cell_type": "code",
   "execution_count": 4,
   "metadata": {
    "id": "53eal4z-HbDG"
   },
   "outputs": [],
   "source": [
    "# concdição inicial eq 1.1\n",
    "model.initial_conditions = {c: pybamm.Scalar(1)}\n",
    "\n",
    "# boundary conditions\n",
    "lbc = pybamm.Scalar(0) # condição de cottrel eq 1.3\n",
    "rbc = pybamm.Scalar(1) # difusão semi-infintia eq 1.2\n",
    "model.boundary_conditions = {c: {\"left\": (lbc, \"Dirichlet\"), \"right\": (rbc, \"Dirichlet\")}} # adiciona ao dicionário"
   ]
  },
  {
   "cell_type": "markdown",
   "metadata": {
    "id": "i46lK67THbDG"
   },
   "source": [
    "Adicionando as variáveis de interesse ao dicionário `model.variables`. A implementar: cálculo da corrente."
   ]
  },
  {
   "cell_type": "code",
   "execution_count": 5,
   "metadata": {
    "id": "RXoUL6XyHbDH"
   },
   "outputs": [],
   "source": [
    "model.variables = {\"Concentration\": c, \"Flux\": N} #variáveis disponíveis na solução"
   ]
  },
  {
   "cell_type": "markdown",
   "metadata": {
    "id": "CiqF84-8HbDH"
   },
   "source": [
    "## Usando o modelo"
   ]
  },
  {
   "cell_type": "markdown",
   "metadata": {
    "id": "chp9R4e8HbDI"
   },
   "source": [
    "### Definindo a geometria e a malha\n",
    "\n",
    "As variáveis espaciais são definidas independentemente das variáveis do modelo. O domínio 1D varia no intervalo $0 \\le x \\le 6$."
   ]
  },
  {
   "cell_type": "code",
   "execution_count": 6,
   "metadata": {
    "id": "CYw0af2vHbDI"
   },
   "outputs": [],
   "source": [
    "# define a geometria\n",
    "x = pybamm.SpatialVariable(\n",
    "    \"x\", domain=[\"electrolyte\"], coord_sys=\"cartesian\"\n",
    ")\n",
    "geometry = {\"electrolyte\": {x: {\"min\": pybamm.Scalar(0), \"max\": pybamm.Scalar(6)}}}"
   ]
  },
  {
   "cell_type": "markdown",
   "metadata": {
    "id": "LUEjET8AHbDI"
   },
   "source": [
    "Criando uma malha uniforme. A implementar : malha com expansão exponencial. (ver descrição abaixo)"
   ]
  },
  {
   "cell_type": "code",
   "execution_count": 7,
   "metadata": {
    "id": "WCbEMr3aHbDJ"
   },
   "outputs": [],
   "source": [
    "# construção da malha\n",
    "submesh_types = {\"electrolyte\": pybamm.Uniform1DSubMesh}\n",
    "var_pts = {x: 400} # número de elementos da malha\n",
    "mesh = pybamm.Mesh(geometry, submesh_types, var_pts)"
   ]
  },
  {
   "cell_type": "markdown",
   "metadata": {
    "id": "p8MyMrDjHbDJ"
   },
   "source": [
    "Example of meshes that do require parameters include the `pybamm.Exponential1DSubMesh` which clusters points close to one or both boundaries using an exponential rule. It takes a parameter which sets how closely the points are clustered together, and also lets the users select the side on which more points should be clustered. For example, to create a mesh with more nodes clustered to the right (i.e. the surface in the particle problem), using a stretch factor of 2, we pass an instance of the exponential submesh class and a dictionary of parameters into the `MeshGenerator` class as follows: `pybamm.MeshGenerator(pybamm.Exponential1DSubMesh, submesh_params={\"side\": \"right\", \"stretch\": 2})`"
   ]
  },
  {
   "cell_type": "markdown",
   "metadata": {
    "id": "gSUZUptCHbDJ"
   },
   "source": [
    "Discretizando por Volumes Finito. A testar: Elementos finitos."
   ]
  },
  {
   "cell_type": "code",
   "execution_count": 8,
   "metadata": {
    "id": "7A_pVsMzHbDK"
   },
   "outputs": [],
   "source": [
    "spatial_methods = {\"electrolyte\": pybamm.FiniteVolume()}\n",
    "disc = pybamm.Discretisation(mesh, spatial_methods)\n",
    "disc.process_model(model);"
   ]
  },
  {
   "cell_type": "markdown",
   "metadata": {
    "id": "KMgSuKPLHbDK"
   },
   "source": [
    "### Resolvendo o modelo"
   ]
  },
  {
   "cell_type": "markdown",
   "metadata": {
    "id": "wXFVNWMTHbDL"
   },
   "source": [
    "O Solver ScipySolver é escolhido. Outras opções?. Definindo a malha uniforme no tempo.  "
   ]
  },
  {
   "cell_type": "code",
   "execution_count": 10,
   "metadata": {
    "colab": {
     "base_uri": "https://localhost:8080/",
     "height": 332
    },
    "id": "FiG9ch1xHbDL",
    "outputId": "968ede07-fe47-4057-d1b6-cd03b4f2f199"
   },
   "outputs": [
    {
     "data": {
      "image/png": "[encoded data removed]",
      "text/plain": [
       "<Figure size 1300x400 with 2 Axes>"
      ]
     },
     "metadata": {},
     "output_type": "display_data"
    }
   ],
   "source": [
    "# solução\n",
    "solver = pybamm.ScipySolver()\n",
    "t = np.linspace(0.00001, 1, 1000) # malha uniforme no tempo. única opção? problemas de stiff?\n",
    "solution = solver.solve(model, t)\n",
    "\n",
    "# pós processamento\n",
    "c = solution[\"Concentration\"] # c acessível em qualquer x e qualquer t por interpolação\n",
    "N = solution[\"Flux\"] # idem para N\n",
    "\n",
    "# figuras\n",
    "fig, (ax1, ax2) = plt.subplots(1, 2, figsize=(13, 4))\n",
    "\n",
    "#perfis de concentração teórico e calculado\n",
    "def can(t):\n",
    "    return 1 - special.erfc(x/(2*np.sqrt(t))) # solução analítica\n",
    "x = np.linspace(0, 6, 200)\n",
    "ax2.plot(x, c(t=1, x=x),\"r.\",x, can(1),\"b\",x,c(t=0.1, x=x),\"r.\",x, can(.1),\n",
    "         x, c(t=0.01, x=x),\"r.\",x, can(.01),\"b\",x, c(t=0.001, x=x),\"r.\",x, can(.001),\"b\")\n",
    "ax2.set_xlabel(\"x\")\n",
    "ax2.set_ylabel(\"Concentration\")\n",
    "ax2.set_xlim([0,0.9])\n",
    "\n",
    "#theoretical and numerical current\n",
    "def ian(t):\n",
    "    return 1/np.sqrt(np.pi*t) # solução analítica, indefinida para t=0\n",
    "ax1.plot(solution.t,-N(solution.t,x=0),\"r.\",solution.t,ian(solution.t),\"b\")\n",
    "ax1.set_xlabel(\"t\")\n",
    "ax1.set_ylabel(\"Current\")\n",
    "ax1.set_xlim([0,1])\n",
    "ax1.set_ylim([0,6])\n",
    "plt.tight_layout()\n",
    "plt.show()"
   ]
  },
  {
   "cell_type": "code",
   "execution_count": null,
   "metadata": {},
   "outputs": [],
   "source": []
  }
 ],
 "metadata": {
  "colab": {
   "provenance": []
  },
  "kernelspec": {
   "display_name": "Python 3 (ipykernel)",
   "language": "python",
   "name": "python3"
  },
  "language_info": {
   "codemirror_mode": {
    "name": "ipython",
    "version": 3
   },
   "file_extension": ".py",
   "mimetype": "text/x-python",
   "name": "python",
   "nbconvert_exporter": "python",
   "pygments_lexer": "ipython3",
   "version": "3.11.10"
  },
  "toc": {
   "base_numbering": 1,
   "nav_menu": {},
   "number_sections": true,
   "sideBar": true,
   "skip_h1_title": false,
   "title_cell": "Table of Contents",
   "title_sidebar": "Contents",
   "toc_cell": false,
   "toc_position": {},
   "toc_section_display": true,
   "toc_window_display": true
  }
 },
 "nbformat": 4,
 "nbformat_minor": 4
}

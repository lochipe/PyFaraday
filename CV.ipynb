{
 "cells": [
  {
   "cell_type": "markdown",
   "metadata": {
    "id": "dP2qVBlQHbC8"
   },
   "source": [
    "# Voltametria cíclica reversível \n",
    "\n",
    "As equações são as mesmas da voltametria linear, porém o potencial varia linearmente segundo a equação:\n",
    "\n",
    "\\begin{align}\r",
    "E(t) &= E_i + v\\tau, \\quad \\text{se} \\quad \\tau \\leq \\tau_\\lambda \\\\ \n",
    "E(t) &= E_f - v(\\tau-\\tau_\\lambda), \\quad \\text{se} \\quad \\tau_\\lambda \\leq \\tau \\leq 2\\tau_\\lambda\n",
    "\\end{align}\n",
    "onde $v$ é a velocidade de varredura."
   ]
  },
  {
   "cell_type": "code",
   "execution_count": 1,
   "metadata": {
    "colab": {
     "base_uri": "https://localhost:8080/"
    },
    "id": "33zzyQClHbDA",
    "outputId": "6ffdebb5-1cb9-4bdb-ddd8-3ebb36276d02"
   },
   "outputs": [],
   "source": [
    "import pybamm\n",
    "import numpy as np\n",
    "import matplotlib.pyplot as plt\n",
    "import sympy as sy\n",
    "import math\n",
    "from scipy import special"
   ]
  },
  {
   "cell_type": "markdown",
   "metadata": {
    "id": "GE5PRWCNHbDC"
   },
   "source": [
    "## Definindo o modelo"
   ]
  },
  {
   "cell_type": "markdown",
   "metadata": {
    "id": "Z2XjCy5kHbDD"
   },
   "source": [
    "Definindo a variável do modelo e a qual domínio ela pertence:"
   ]
  },
  {
   "cell_type": "code",
   "execution_count": 2,
   "metadata": {
    "id": "grWOj8UyHbDE"
   },
   "outputs": [],
   "source": [
    "model = pybamm.BaseModel()\n",
    "\n",
    "co = pybamm.Variable(\"Concentration of O\", domain=\"electrolyte\")\n",
    "cr = pybamm.Variable(\"Concentration of R\", domain=\"electrolyte\")"
   ]
  },
  {
   "cell_type": "markdown",
   "metadata": {
    "id": "Z2XjCy5kHbDD"
   },
   "source": [
    "Definindo os parâmetros do modelo (Ei, Ef, e v agora são tratados como parâmetros do modelo, pois $\\eta$ varia com o tempo):"
   ]
  },
  {
   "cell_type": "code",
   "execution_count": 3,
   "metadata": {},
   "outputs": [],
   "source": [
    "Ei = pybamm.Parameter(\"Init Potential [V]\")\n",
    "Ef = pybamm.Parameter(\"Final Potential [V]\")\n",
    "E0 = pybamm.Parameter(\"Standard Potential [V]\")\n",
    "v = pybamm.Parameter(\"Scan rate [V.s-1]\")\n",
    "F = pybamm.Parameter(\"Faraday constant [C.mol-1]\")\n",
    "R = pybamm.Parameter(\"Molar gas constant [J.K-1.mol-1]\")\n",
    "T = pybamm.Parameter(\"Temperature [K]\")"
   ]
  },
  {
   "cell_type": "markdown",
   "metadata": {
    "id": "Kb-BxPGGHbDE"
   },
   "source": [
    "As equações são definidas em termos do fluxo e do divergente e adicionadas ao dicionário `model.rhs`"
   ]
  },
  {
   "cell_type": "code",
   "execution_count": 4,
   "metadata": {
    "id": "Jq7wl5adHbDF"
   },
   "outputs": [],
   "source": [
    "No = - pybamm.grad(co)  \n",
    "Nr = -pybamm.grad(cr) \n",
    "rhs_o = -pybamm.div(No)  \n",
    "rhs_r = -pybamm.div(Nr) \n",
    "\n",
    "model.rhs = {co: rhs_o, cr: rhs_r}  # add the equation to rhs dictionary"
   ]
  },
  {
   "cell_type": "markdown",
   "metadata": {
    "id": "08AeFiJEHbDF"
   },
   "source": [
    "Introduzindo as condições iniciais e de contorno:"
   ]
  },
  {
   "cell_type": "code",
   "execution_count": 5,
   "metadata": {
    "id": "53eal4z-HbDG"
   },
   "outputs": [],
   "source": [
    "# initial conditions\n",
    "model.initial_conditions = {co: pybamm.Scalar(1), cr:pybamm.Scalar(0)}\n",
    "\n",
    "# boundary conditions\n",
    "f = F/(R*T)\n",
    "tf = 2*(Ef-Ei)/v\n",
    "cosseno=pybamm.cos((np.pi / tf) * pybamm.t)\n",
    "seno = pybamm.sin((np.pi/tf)*pybamm.t)\n",
    "E =  Ei + (2 * (Ef-Ei) / np.pi) * np.abs(pybamm.arctan(seno/cosseno))\n",
    "eta = E - E0\n",
    "teta = pybamm.exp(f*eta)\n",
    "left_co = teta/(1+teta) # Surface concentration by Nernst equation\n",
    "left_cr = 1/(1+teta) # Surface concentration by Nernst equation\n",
    "right_co = pybamm.Scalar(1) #semi-infinite diffusion\n",
    "right_cr = pybamm.Scalar(0) #semi-infinite diffusion\n",
    "model.boundary_conditions = {co: {\"left\": (left_co, \"Dirichlet\"), \"right\": (right_co, \"Dirichlet\")},\n",
    "                             cr: {\"left\": (left_cr, \"Dirichlet\"), \"right\": (right_cr, \"Dirichlet\")}}"
   ]
  },
  {
   "cell_type": "markdown",
   "metadata": {
    "id": "i46lK67THbDG"
   },
   "source": [
    "Adicionando as variáveis de interesse ao dicionário `model.variables`. $\\eta$ é adicionado para plotar o voltamograma no pós-processamento."
   ]
  },
  {
   "cell_type": "code",
   "execution_count": 6,
   "metadata": {
    "id": "RXoUL6XyHbDH"
   },
   "outputs": [],
   "source": [
    "model.variables = {\"Concentration of O\": co, \"Flux of O\": No, \"Concentration of O\": co, \"Flux of R\": Nr, \"Applied potential\": E}"
   ]
  },
  {
   "cell_type": "markdown",
   "metadata": {
    "id": "CiqF84-8HbDH"
   },
   "source": [
    "## Usando o modelo"
   ]
  },
  {
   "cell_type": "markdown",
   "metadata": {
    "id": "chp9R4e8HbDI"
   },
   "source": [
    "### Definindo a geometria e a malha\n",
    "\n",
    "As variáveis espaciais são definidas independentemente das variáveis do modelo. O domínio 1D varia no intervalo $0 \\le x \\le 6$."
   ]
  },
  {
   "cell_type": "code",
   "execution_count": 7,
   "metadata": {},
   "outputs": [],
   "source": [
    "param = pybamm.ParameterValues(\n",
    "    {\n",
    "        \"Init Potential [V]\": \"[input]\",\n",
    "        \"Final Potential [V]\": \"[input]\",\n",
    "        \"Standard Potential [V]\": \"[input]\",\n",
    "        \"Scan rate [V.s-1]\": \"[input]\",\n",
    "        \"Faraday constant [C.mol-1]\": 96485.3,\n",
    "        \"Molar gas constant [J.K-1.mol-1]\": 8.31446,\n",
    "        \"Temperature [K]\": 298.15\n",
    "    }\n",
    ")"
   ]
  },
  {
   "cell_type": "code",
   "execution_count": 8,
   "metadata": {
    "id": "CYw0af2vHbDI"
   },
   "outputs": [],
   "source": [
    "# define geometry\n",
    "x = pybamm.SpatialVariable(\n",
    "    \"x\", domain=[\"electrolyte\"], coord_sys=\"cartesian\"\n",
    ")\n",
    "geometry = {\"electrolyte\": {x: {\"min\": pybamm.Scalar(0), \"max\": pybamm.Scalar(6)}}}"
   ]
  },
  {
   "cell_type": "code",
   "execution_count": 9,
   "metadata": {},
   "outputs": [],
   "source": [
    "param.process_model(model)\n",
    "param.process_geometry(geometry)"
   ]
  },
  {
   "cell_type": "markdown",
   "metadata": {
    "id": "LUEjET8AHbDI"
   },
   "source": [
    "Criando uma malha uniforme. A implementar : malha com expansão exponencial. (ver descrição abaixo)"
   ]
  },
  {
   "cell_type": "code",
   "execution_count": 10,
   "metadata": {
    "id": "WCbEMr3aHbDJ"
   },
   "outputs": [],
   "source": [
    "# mesh and discretise\n",
    "submesh_types = {\"electrolyte\": pybamm.Uniform1DSubMesh}\n",
    "var_pts = {x: 400}\n",
    "mesh = pybamm.Mesh(geometry, submesh_types, var_pts)"
   ]
  },
  {
   "cell_type": "markdown",
   "metadata": {
    "id": "p8MyMrDjHbDJ"
   },
   "source": [
    "Example of meshes that do require parameters include the `pybamm.Exponential1DSubMesh` which clusters points close to one or both boundaries using an exponential rule. It takes a parameter which sets how closely the points are clustered together, and also lets the users select the side on which more points should be clustered. For example, to create a mesh with more nodes clustered to the right (i.e. the surface in the particle problem), using a stretch factor of 2, we pass an instance of the exponential submesh class and a dictionary of parameters into the `MeshGenerator` class as follows: `pybamm.MeshGenerator(pybamm.Exponential1DSubMesh, submesh_params={\"side\": \"right\", \"stretch\": 2})`"
   ]
  },
  {
   "cell_type": "markdown",
   "metadata": {
    "id": "gSUZUptCHbDJ"
   },
   "source": [
    "Discretizando por Volumes Finito. A testar: Elementos finitos."
   ]
  },
  {
   "cell_type": "code",
   "execution_count": 11,
   "metadata": {
    "id": "7A_pVsMzHbDK"
   },
   "outputs": [],
   "source": [
    "spatial_methods = {\"electrolyte\": pybamm.FiniteVolume()}\n",
    "disc = pybamm.Discretisation(mesh, spatial_methods)\n",
    "disc.process_model(model);"
   ]
  },
  {
   "cell_type": "markdown",
   "metadata": {
    "id": "KMgSuKPLHbDK"
   },
   "source": [
    "### Resolvendo o modelo"
   ]
  },
  {
   "cell_type": "markdown",
   "metadata": {
    "id": "wXFVNWMTHbDL"
   },
   "source": [
    "O Solver ScipySolver é escolhido. Outras opções?. Definindo a malha uniforme no tempo. Como é feita a discretização no tempo? Como tratar stiff problems?  A implementar: comparação com soluções analiticas para corrente e concentração. "
   ]
  },
  {
   "cell_type": "code",
   "execution_count": 12,
   "metadata": {
    "colab": {
     "base_uri": "https://localhost:8080/",
     "height": 332
    },
    "id": "FiG9ch1xHbDL",
    "outputId": "968ede07-fe47-4057-d1b6-cd03b4f2f199"
   },
   "outputs": [
    {
     "data": {
      "image/png": "[encoded data removed]",
      "text/plain": [
       "<Figure size 1300x400 with 2 Axes>"
      ]
     },
     "metadata": {},
     "output_type": "display_data"
    }
   ],
   "source": [
    "# solução para várias velocidades de varredura.\n",
    "f=38.9217\n",
    "solver = pybamm.ScipySolver()\n",
    "currents = []\n",
    "peak_currents = []\n",
    "potentials = []\n",
    "labels=[]\n",
    "elow=0.3 # init potential\n",
    "ehigh=-0.3 # end potential\n",
    "vs = [-0.02, -0.05, -0.1, -0.2, -0.5] # sweep rates\n",
    "for v in vs:\n",
    "    tf=2*(ehigh-elow)/v\n",
    "    t = np.linspace(0, tf, 1000)\n",
    "    solution = solver.solve(model, t, inputs={\"Init Potential [V]\": elow, \n",
    "                                              \"Final Potential [V]\": ehigh, \n",
    "                                              \"Standard Potential [V]\": 0, \n",
    "                                              \"Scan rate [V.s-1]\": v})\n",
    "    Na_sol = solution[\"Flux of O\"]\n",
    "    e_sol = solution[\"Applied potential\"]\n",
    "    i = -Na_sol(solution.t,x=0)\n",
    "    peak = np.max(i)\n",
    "    E = e_sol(solution.t)\n",
    "    currents.append(i)\n",
    "    potentials.append(E)\n",
    "    peak_currents.append(peak)\n",
    "    labels.append(str(v))\n",
    "\n",
    "# plot\n",
    "fig, (ax1,ax2) = plt.subplots(1, 2, figsize=(13, 4))\n",
    "\n",
    "ax1.plot(potentials[0],currents[0],label=\"v=\"+labels[0])\n",
    "ax1.plot(potentials[1],currents[1],label=\"v=\"+labels[1])\n",
    "ax1.plot(potentials[2],currents[2],label=\"v=\"+labels[2])\n",
    "ax1.plot(potentials[3],currents[3],label=\"v=\"+labels[3])\n",
    "ax1.plot(potentials[4],currents[4],label=\"v=\"+labels[4])\n",
    "ax1.set_xlabel(\"E-E0 / V\")\n",
    "ax1.set_ylabel(\"i / $\\mu A$\")\n",
    "ax1.set_xlim([0.2,-0.25])\n",
    "#ax1.set_ylim([0,6])\n",
    "#plt.tight_layout()\n",
    "\n",
    "ax2.plot(list(map(np.sqrt,map(abs,vs))),peak_currents,\"b o\")\n",
    "ax2.set_xlabel(\"$\\sqrt{v / Vs^{-1}}$\")\n",
    "ax2.set_ylabel(\"$i_p$\")\n",
    "\n",
    "ax1.legend(loc=\"upper left\")\n",
    "plt.show()"
   ]
  },
  {
   "cell_type": "code",
   "execution_count": 13,
   "metadata": {
    "colab": {
     "base_uri": "https://localhost:8080/",
     "height": 332
    },
    "id": "FiG9ch1xHbDL",
    "outputId": "968ede07-fe47-4057-d1b6-cd03b4f2f199",
    "scrolled": true
   },
   "outputs": [
    {
     "data": {
      "application/vnd.jupyter.widget-view+json": {
       "model_id": "6ea0d1d1a9b147a2b88f9da56d517aa0",
       "version_major": 2,
       "version_minor": 0
      },
      "text/plain": [
       "Text(value='0.5', continuous_update=False, description='entre $ E_i $ em V :', style=TextStyle(description_wid…"
      ]
     },
     "metadata": {},
     "output_type": "display_data"
    },
    {
     "data": {
      "application/vnd.jupyter.widget-view+json": {
       "model_id": "04da70f0018a4ef08b50ad7de60d0b36",
       "version_major": 2,
       "version_minor": 0
      },
      "text/plain": [
       "Text(value='-0.5', continuous_update=False, description='entre $ E_f $ em V :', style=TextStyle(description_wi…"
      ]
     },
     "metadata": {},
     "output_type": "display_data"
    },
    {
     "data": {
      "application/vnd.jupyter.widget-view+json": {
       "model_id": "df94c51e20724d55945eb64e2d0d7419",
       "version_major": 2,
       "version_minor": 0
      },
      "text/plain": [
       "Text(value='0', continuous_update=False, description='entre $ E^0 $ em V :', style=TextStyle(description_width…"
      ]
     },
     "metadata": {},
     "output_type": "display_data"
    },
    {
     "data": {
      "application/vnd.jupyter.widget-view+json": {
       "model_id": "ca02ce4243af4042ae8d85b6c9f886b5",
       "version_major": 2,
       "version_minor": 0
      },
      "text/plain": [
       "Text(value='-0.1', continuous_update=False, description='entre $v$ em $V\\\\cdot s^{-1}$:', style=TextStyle(desc…"
      ]
     },
     "metadata": {},
     "output_type": "display_data"
    },
    {
     "data": {
      "application/vnd.jupyter.widget-view+json": {
       "model_id": "7e1d5897761f4500a11ddc5a9cfc0672",
       "version_major": 2,
       "version_minor": 0
      },
      "text/plain": [
       "Button(description='Recalcular', style=ButtonStyle())"
      ]
     },
     "metadata": {},
     "output_type": "display_data"
    },
    {
     "data": {
      "application/vnd.jupyter.widget-view+json": {
       "model_id": "7e66c83d3e2148f283cd1c741b21cce9",
       "version_major": 2,
       "version_minor": 0
      },
      "text/plain": [
       "Output()"
      ]
     },
     "metadata": {},
     "output_type": "display_data"
    }
   ],
   "source": [
    "# simulação da voltametria.\n",
    "from ipywidgets import interact, Text, Layout, Button, Output\n",
    "from IPython.display import display, clear_output\n",
    "\n",
    "# solução\n",
    "solver = pybamm.ScipySolver()\n",
    "t = np.linspace(0.00001, 1, 1000)\n",
    "f = 38.9217\n",
    "\n",
    "output = Output() # define um widget output para capturar o gráfico e depois mostrá-lo com display\n",
    "\n",
    "def plot_solution(ei,ef,e0, v):\n",
    "    with output:\n",
    "        clear_output(wait=True) # limpa gráficos anteriormente gerados\n",
    "        try:\n",
    "            ei = float(ei)  # Garante que a entrada seja um número válido.\n",
    "            ef = float(ef)\n",
    "            e0 = float(e0)\n",
    "            v = float(v)\n",
    "        except ValueError:\n",
    "            print(\"Por favor, insira um número válido\")\n",
    "            return\n",
    "    \n",
    "        tf=2*(ef-ei)/v\n",
    "        t = np.linspace(0, tf, 1000)\n",
    "        solution = solver.solve(model, t, inputs={\"Init Potential [V]\": ei, \n",
    "                                              \"Final Potential [V]\": ef, \n",
    "                                              \"Standard Potential [V]\": e0, \n",
    "                                              \"Scan rate [V.s-1]\": v})\n",
    "        Na_sol = solution[\"Flux of O\"]\n",
    "        e_sol = solution[\"Applied potential\"]\n",
    "        i = -Na_sol(solution.t,x=0)\n",
    "        E = e_sol(solution.t)\n",
    "        \n",
    "    \n",
    "        # plot\n",
    "        fig, ax1 = plt.subplots()\n",
    "\n",
    "        ax1.plot(E,i,\"r-\",linewidth=1.5)\n",
    "        ax1.set_xlabel(\"E / V\")\n",
    "        ax1.set_ylabel(\"Corrente\")\n",
    "        ax1.set_xlim([ei,ef])\n",
    "        plt.tight_layout()\n",
    "        plt.show()\n",
    "\n",
    "# Cria um Text widget para número de pontos\n",
    "v_input = Text(value='-0.1', description= 'entre $v$ em $V\\cdot s^{-1}$:', continuous_update=False,\n",
    "                style={'description_width':'initial'})\n",
    "\n",
    "# Cria um Text widget para entrada do potencial inicial\n",
    "ei_input = Text(value='0.5', description= 'entre $ E_i $ em V :', continuous_update=False,\n",
    "                style={'description_width':'initial'})\n",
    "\n",
    "# Cria um Text widget para entrada do potencial final\n",
    "ef_input = Text(value='-0.5', description= 'entre $ E_f $ em V :', continuous_update=False,\n",
    "                style={'description_width':'initial'})\n",
    "\n",
    "# Cria um Text widget para entrada do potencial padrão\n",
    "e0_input = Text(value='0', description= 'entre $ E^0 $ em V :', continuous_update=False,\n",
    "                style={'description_width':'initial'})\n",
    "\n",
    "# Cria um botão para recalcular a função\n",
    "run_button = Button(description=\"Recalcular\")\n",
    "\n",
    "# Define um manipulador de eventos para o click no botão\n",
    "def on_button_click(b):\n",
    "    ei = ei_input.value\n",
    "    ef = ef_input.value\n",
    "    e0 = e0_input.value\n",
    "    v = v_input.value\n",
    "    if ei and ef and e0 and v:  # Ensure both values are entered\n",
    "        plot_solution(ei,ef,e0,v)\n",
    "        \n",
    "# Link o click do botão com o manipulador de eventos\n",
    "run_button.on_click(on_button_click)\n",
    "\n",
    "# Mostra o gráfico default na primeira execução\n",
    "plot_solution(ei_input.value, ef_input.value,e0_input.value,v_input.value)\n",
    "\n",
    "# mostra os widgets, incluindo o output\n",
    "display(ei_input, ef_input, e0_input, v_input, run_button, output)\n"
   ]
  },
  {
   "cell_type": "code",
   "execution_count": null,
   "metadata": {},
   "outputs": [],
   "source": []
  }
 ],
 "metadata": {
  "colab": {
   "provenance": []
  },
  "kernelspec": {
   "display_name": "Python 3 (ipykernel)",
   "language": "python",
   "name": "python3"
  },
  "language_info": {
   "codemirror_mode": {
    "name": "ipython",
    "version": 3
   },
   "file_extension": ".py",
   "mimetype": "text/x-python",
   "name": "python",
   "nbconvert_exporter": "python",
   "pygments_lexer": "ipython3",
   "version": "3.11.10"
  },
  "toc": {
   "base_numbering": 1,
   "nav_menu": {},
   "number_sections": true,
   "sideBar": true,
   "skip_h1_title": false,
   "title_cell": "Table of Contents",
   "title_sidebar": "Contents",
   "toc_cell": false,
   "toc_position": {},
   "toc_section_display": true,
   "toc_window_display": true
  }
 },
 "nbformat": 4,
 "nbformat_minor": 4
}

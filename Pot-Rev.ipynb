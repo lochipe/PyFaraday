{
 "cells": [
  {
   "cell_type": "markdown",
   "metadata": {
    "id": "dP2qVBlQHbC8"
   },
   "source": [
    "# Salto de potencial sob controle difusional "
   ]
  },
  {
   "cell_type": "markdown",
   "metadata": {},
   "source": [
    "Assumindo a transferência reversível de 1 elétron:\n",
    "$$\n",
    "\\begin{equation*}\n",
    "\\text{O} + \\text{ne}^- \\rightleftharpoons \\text{R}\n",
    "\\end{equation*}\n",
    "$$"
   ]
  },
  {
   "cell_type": "markdown",
   "metadata": {
    "id": "PcWptQ8FHbC_"
   },
   "source": [
    "Assumindo eletrodo planar e considerando que as espécies tem o mesmo coeficiente de difusão, $ \\text{para} \\quad  0\\le \\tau \\le \\tau_s \\quad \n",
    "  \\text{e} \\quad 0 \\le y \\le 6 \\sqrt{D \\tau_s}$:\n",
    "\n",
    "\\begin{align}\n",
    "  \\frac{\\partial c_O}{\\partial \\tau} &= D \\frac{\\partial^2 c_O}{\\partial y^2} \\\\\n",
    "  \\frac{\\partial c_R}{\\partial \\tau} &= D \\frac{\\partial^2 c_R}{\\partial y^2}\n",
    "\\end{align}\n",
    "\n",
    "As condições inciais, assumindo R inicialmente ausente, são:\n",
    "\\begin{align}\n",
    "C_O(y,0) &= C_O^* \\\\\n",
    "C_R(y,0) &= 0\n",
    "\\end{align}\n",
    "\n",
    "A difusão semi-infinita é aplicada no seio da solução:\n",
    "\\begin{align} \n",
    "\\lim_{y \\to \\infty} C_O(y,\\tau) &= C_O^* \\\\\n",
    "\\lim_{y \\to \\infty} C_R(y,\\tau) &= 0\n",
    "\\end{align}\n",
    "\n",
    "A condição de equilíbrio (equação de Nernst) é aplicada na interface:\n",
    "\n",
    "\\begin{equation}\n",
    "\\theta = \\exp \\left(\\frac{F}{RT}(E-E^0) \\right)\n",
    "\\end{equation}\n",
    "\n",
    "\\begin{align}\n",
    "C_O(0,\\tau) &= \\frac{\\theta}{1+\\theta}  \\quad \\text{para} \\, \\tau>0 \\\\\n",
    "C_R(0,\\tau) &= \\frac{1}{1+\\theta} \\quad \\text{para} \\, \\tau>0\n",
    "\\end{align}\n",
    "\n",
    "Definindo as seguintes transformações de variáveis:\n",
    "\n",
    "\\begin{equation*}\n",
    "x=\\frac{y}{\\sqrt{D \\tau_s}}\n",
    "\\end{equation*}\n",
    "\n",
    "\\begin{equation*}\n",
    "t=\\frac{\\tau}{\\tau_s}\n",
    "\\end{equation*}\n",
    "\n",
    "\\begin{equation*}\n",
    "c_{O,R}=\\frac{C_{O,R}}{C_O^*}\n",
    "\\end{equation*}\n",
    "\n",
    "\\begin{equation}\n",
    "\\eta = E-E^0\n",
    "\\end{equation}\n",
    "\n",
    "\\begin{equation}\n",
    "f = \\frac{F}{RT}\n",
    "\\end{equation}\n",
    "\n",
    "As equações ficam, $ \\quad \\text {para} \\quad 0 \\le t \\quad \\text{e} \\quad 0 \\le x \\le 6$:\n",
    "\n",
    "\\begin{align}\n",
    "\\tag{1.0a} \n",
    "\\frac{\\partial c_O}{\\partial t} &=  \\frac{\\partial^2 c_O}{\\partial x^2} \\\\\n",
    "\\tag{1.0b}\n",
    "\\frac{\\partial c_R}{\\partial t} &=  \\frac{\\partial^2 c_R}{\\partial x^2}\n",
    "\\end{align}\n",
    "\n",
    "E as condições iniciais e de contorno ficam:\n",
    "\n",
    "\\begin{align}\n",
    "\\tag{1.1a}\n",
    "c_O(x,0)&=1 \\\\\n",
    "\\tag{1.1b}\n",
    "c_R(x,0)&=0\n",
    "\\end{align}\n",
    "\n",
    "\\begin{align}\n",
    "\\tag{1.2a}\n",
    "\\lim_{x \\to \\infty} c_O(x,t) &= 1 \\\\\n",
    "\\tag{1.2b}\n",
    "\\lim_{x \\to \\infty} c_R(x,t) &= 0\n",
    "\\end{align}\n",
    "\n",
    "\\begin{align}\n",
    "\\theta &= \\exp (f\\eta) \\\\\n",
    "\\tag{1.3a}\n",
    "c_O(0,t) &= \\frac{\\theta}{1+\\theta} \\\\\n",
    "\\tag{1.3b}\n",
    "c_R(0,t) &= \\frac{1}{1+\\theta}\n",
    "\\end{align}\n",
    "\n",
    "A solução para a concentração é:\n",
    "\\begin{align}\n",
    "c_O(x,t) &= 1- \\frac{1}{1 + \\theta}erfc \\left ( \\frac{x}{2\\sqrt{t}} \\right )\\\\\n",
    "c_R(x,t) &= \\frac{1}{1 + \\theta}erfc \\left ( \\frac{x}{2\\sqrt{t}} \\right )\n",
    "\\end{align}\n",
    "\n",
    "A densidade de corrente é limitada pelo fluxo difusional, logo:\n",
    "\\begin{equation*}\n",
    "j(\\tau) = nFD \\left ( \\frac{\\partial C_O}{\\partial y} \\right )_{y=0} = nFD\\frac{C_O^*}{\\sqrt{D\\tau}} \\left ( \\frac{\\partial c}{\\partial x} \\right )_{x=0}\n",
    "\\end{equation*}\n",
    "\n",
    "Definindo a corrente adimensional como $i(t)=\\frac{j(\\tau)}{nFD} \\frac{\\sqrt{D\\tau}}{C_O^*}$ e derivando a expressão da concentração:\n",
    "\\begin{equation*}\n",
    "\\tag{3.0}\n",
    "i(t)=\\frac{1}{\\sqrt{\\pi t}}\n",
    "\\end{equation*}\n",
    "\n",
    "Iniciamos importando as bibliotecas do pybamm e do python necessárias:\n"
   ]
  },
  {
   "cell_type": "code",
   "execution_count": 1,
   "metadata": {
    "colab": {
     "base_uri": "https://localhost:8080/"
    },
    "id": "33zzyQClHbDA",
    "outputId": "6ffdebb5-1cb9-4bdb-ddd8-3ebb36276d02"
   },
   "outputs": [],
   "source": [
    "import pybamm\n",
    "import numpy as np\n",
    "import matplotlib.pyplot as plt\n",
    "import sympy as sy\n",
    "import math\n",
    "from scipy import special"
   ]
  },
  {
   "cell_type": "markdown",
   "metadata": {
    "id": "GE5PRWCNHbDC"
   },
   "source": [
    "## Definindo o modelo"
   ]
  },
  {
   "cell_type": "markdown",
   "metadata": {
    "id": "Z2XjCy5kHbDD"
   },
   "source": [
    "Definindo a variável do modelo e a qual domínio ela pertence (neste caso é necessário calcular a concentração de b para aplicar a equação de Nernst na interface):"
   ]
  },
  {
   "cell_type": "code",
   "execution_count": 2,
   "metadata": {
    "id": "grWOj8UyHbDE"
   },
   "outputs": [],
   "source": [
    "model = pybamm.BaseModel()\n",
    "\n",
    "co = pybamm.Variable(\"Concentration of O\", domain=\"electrolyte\") \n",
    "cr = pybamm.Variable(\"Concentration of R\", domain=\"electrolyte\")"
   ]
  },
  {
   "cell_type": "markdown",
   "metadata": {
    "id": "Z2XjCy5kHbDD"
   },
   "source": [
    "Definindo os parâmetros do modelo:"
   ]
  },
  {
   "cell_type": "code",
   "execution_count": 3,
   "metadata": {},
   "outputs": [],
   "source": [
    "eta = pybamm.Parameter(\"Applied Overpotential [V]\") # sobrepotencial aplicado\n",
    "F = pybamm.Parameter(\"Faraday constant [C.mol-1]\")\n",
    "R = pybamm.Parameter(\"Molar gas constant [J.K-1.mol-1]\")\n",
    "T = pybamm.Parameter(\"Temperature [K]\")"
   ]
  },
  {
   "cell_type": "markdown",
   "metadata": {
    "id": "Kb-BxPGGHbDE"
   },
   "source": [
    "As equações são definidas em termos do fluxo e do divergente e adicionadas ao dicionário `model.rhs`"
   ]
  },
  {
   "cell_type": "code",
   "execution_count": 4,
   "metadata": {
    "id": "Jq7wl5adHbDF"
   },
   "outputs": [],
   "source": [
    "No = - pybamm.grad(co)  # define o fluxo de O\n",
    "Nr = -pybamm.grad(cr) # define o fluxo de R\n",
    "rhso = -pybamm.div(No)  # define o lado direito da equação 1.0a\n",
    "rhsr = -pybamm.div(Nr) # define o lado direito da equação 1.0b\n",
    "\n",
    "model.rhs = {co: rhso, cr: rhsr}  # adicona as equações ao dicionário"
   ]
  },
  {
   "cell_type": "markdown",
   "metadata": {
    "id": "08AeFiJEHbDF"
   },
   "source": [
    "Introduzindo as condições iniciais e de contorno:"
   ]
  },
  {
   "cell_type": "code",
   "execution_count": 5,
   "metadata": {
    "id": "53eal4z-HbDG"
   },
   "outputs": [],
   "source": [
    "# condições iniciais\n",
    "model.initial_conditions = {co: pybamm.Scalar(1), cr:pybamm.Scalar(0)}\n",
    "\n",
    "# boundary conditions\n",
    "f = F/(R*T)\n",
    "teta = pybamm.exp(f*eta)\n",
    "left_co = teta/(1+teta) # equação 1.3a. Valor de co na interface\n",
    "left_cr = 1/(1+teta) # equação 1.3b. Valor de cr na interface\n",
    "right_co = pybamm.Scalar(1) # equação 1.2a. Valor de co no seio da solução.\n",
    "right_cr = pybamm.Scalar(0) # equação 1.2b. Valor de cr no seio da solução.\n",
    "model.boundary_conditions = {co: {\"left\": (left_co, \"Dirichlet\"), \"right\": (right_co, \"Dirichlet\")},\n",
    "                             cr: {\"left\": (left_cr, \"Dirichlet\"), \"right\": (right_cr, \"Dirichlet\")}}\n",
    "#Dirichlet refere-se à condições de contorno que determinam o valor das variáveis co e cr na fronteira."
   ]
  },
  {
   "cell_type": "markdown",
   "metadata": {
    "id": "i46lK67THbDG"
   },
   "source": [
    "Adicionando as variáveis de interesse ao dicionário `model.variables`. "
   ]
  },
  {
   "cell_type": "code",
   "execution_count": 6,
   "metadata": {
    "id": "RXoUL6XyHbDH"
   },
   "outputs": [],
   "source": [
    "model.variables = {\"Concentration of O\": co, \"Flux of O\": No, \"Concentration of R\": cr, \"Flux of R\": Nr}"
   ]
  },
  {
   "cell_type": "markdown",
   "metadata": {
    "id": "CiqF84-8HbDH"
   },
   "source": [
    "## Usando o modelo"
   ]
  },
  {
   "cell_type": "markdown",
   "metadata": {
    "id": "chp9R4e8HbDI"
   },
   "source": [
    "### Definindo a geometria e a malha\n",
    "\n",
    "As variáveis espaciais são definidas independentemente das variáveis do modelo. O domínio 1D varia no intervalo $0 \\le x \\le 6$. \"eta\" é deixado como input para permitir simulações com diferentes sobrepotenciais aplicados."
   ]
  },
  {
   "cell_type": "code",
   "execution_count": 7,
   "metadata": {},
   "outputs": [],
   "source": [
    "param = pybamm.ParameterValues(\n",
    "    {\n",
    "        \"Applied Overpotential [V]\": \"[input]\",\n",
    "        \"Faraday constant [C.mol-1]\": 96485.3,\n",
    "        \"Molar gas constant [J.K-1.mol-1]\": 8.31446,\n",
    "        \"Temperature [K]\": 298.15\n",
    "    }\n",
    ")"
   ]
  },
  {
   "cell_type": "code",
   "execution_count": 8,
   "metadata": {
    "id": "CYw0af2vHbDI"
   },
   "outputs": [],
   "source": [
    "# define geometry\n",
    "x = pybamm.SpatialVariable(\n",
    "    \"x\", domain=[\"electrolyte\"], coord_sys=\"cartesian\"\n",
    ")\n",
    "geometry = {\"electrolyte\": {x: {\"min\": pybamm.Scalar(0), \"max\": pybamm.Scalar(6)}}}"
   ]
  },
  {
   "cell_type": "code",
   "execution_count": 9,
   "metadata": {},
   "outputs": [],
   "source": [
    "param.process_model(model)\n",
    "param.process_geometry(geometry)"
   ]
  },
  {
   "cell_type": "markdown",
   "metadata": {
    "id": "LUEjET8AHbDI"
   },
   "source": [
    "Criando uma malha uniforme. A implementar : malha com expansão exponencial. (ver descrição abaixo)"
   ]
  },
  {
   "cell_type": "code",
   "execution_count": 10,
   "metadata": {
    "id": "WCbEMr3aHbDJ"
   },
   "outputs": [],
   "source": [
    "# mesh and discretise\n",
    "submesh_types = {\"electrolyte\": pybamm.Uniform1DSubMesh}\n",
    "var_pts = {x: 400}\n",
    "mesh = pybamm.Mesh(geometry, submesh_types, var_pts)"
   ]
  },
  {
   "cell_type": "markdown",
   "metadata": {
    "id": "p8MyMrDjHbDJ"
   },
   "source": [
    "Example of meshes that do require parameters include the `pybamm.Exponential1DSubMesh` which clusters points close to one or both boundaries using an exponential rule. It takes a parameter which sets how closely the points are clustered together, and also lets the users select the side on which more points should be clustered. For example, to create a mesh with more nodes clustered to the right (i.e. the surface in the particle problem), using a stretch factor of 2, we pass an instance of the exponential submesh class and a dictionary of parameters into the `MeshGenerator` class as follows: `pybamm.MeshGenerator(pybamm.Exponential1DSubMesh, submesh_params={\"side\": \"right\", \"stretch\": 2})`"
   ]
  },
  {
   "cell_type": "markdown",
   "metadata": {
    "id": "gSUZUptCHbDJ"
   },
   "source": [
    "Discretizando por Volumes Finito. A testar: Elementos finitos."
   ]
  },
  {
   "cell_type": "code",
   "execution_count": 11,
   "metadata": {
    "id": "7A_pVsMzHbDK"
   },
   "outputs": [],
   "source": [
    "spatial_methods = {\"electrolyte\": pybamm.FiniteVolume()}\n",
    "disc = pybamm.Discretisation(mesh, spatial_methods)\n",
    "disc.process_model(model);"
   ]
  },
  {
   "cell_type": "markdown",
   "metadata": {
    "id": "KMgSuKPLHbDK"
   },
   "source": [
    "### Resolvendo o modelo\n",
    "Você pode obter soluções para valores inseridos para o sobrepotencial"
   ]
  },
  {
   "cell_type": "markdown",
   "metadata": {
    "id": "wXFVNWMTHbDL"
   },
   "source": [
    "O Solver ScipySolver é escolhido. Outras opções?. Definindo a malha uniforme no tempo. Como é feita a discretização no tempo? Como tratar stiff problems?  A implementar: comparação com soluções analiticas para corrente e concentração. "
   ]
  },
  {
   "cell_type": "code",
   "execution_count": 12,
   "metadata": {
    "colab": {
     "base_uri": "https://localhost:8080/",
     "height": 332
    },
    "id": "FiG9ch1xHbDL",
    "outputId": "968ede07-fe47-4057-d1b6-cd03b4f2f199",
    "scrolled": true
   },
   "outputs": [
    {
     "data": {
      "application/vnd.jupyter.widget-view+json": {
       "model_id": "724c3d62c5ea4af39bc06a5706d0bdd9",
       "version_major": 2,
       "version_minor": 0
      },
      "text/plain": [
       "interactive(children=(Text(value='-0.1', continuous_update=False, description='entre $ \\\\eta $ em V  ($\\\\eta <…"
      ]
     },
     "metadata": {},
     "output_type": "display_data"
    }
   ],
   "source": [
    "from ipywidgets import interact, Text, Layout\n",
    "\n",
    "# solução\n",
    "solver = pybamm.ScipySolver()\n",
    "t = np.linspace(0.00001, 1, 1000)\n",
    "f = 38.9217\n",
    "\n",
    "\n",
    "def plot_solution(eta_ap):\n",
    "    try:\n",
    "        eta_ap = float(eta_ap)  # Garante que a entrada seja um número válido.\n",
    "        if eta_ap>0:\n",
    "            print(\"Por favor, insira um sobrepotencial negativo\")\n",
    "            return\n",
    "    except ValueError:\n",
    "        print(\"Por favor, insira um número válido\")\n",
    "        return\n",
    "    \n",
    "    solution = solver.solve(model, t, inputs={\"Applied Overpotential [V]\": eta_ap})\n",
    "\n",
    "    co_sol = solution[\"Concentration of O\"]\n",
    "    cr_sol = solution[\"Concentration of R\"]\n",
    "    No_sol = solution[\"Flux of O\"]\n",
    "\n",
    "    teta_ap = np.exp(f*eta_ap)\n",
    "\n",
    "    def cr_an(t):\n",
    "        return 1/(1+teta_ap)*special.erfc(x/(2*np.sqrt(t)))\n",
    "\n",
    "    def i_an(t):\n",
    "        return 1/(np.sqrt(np.pi*solution.t)*(1+teta_ap))\n",
    "\n",
    "    \n",
    "    # plot\n",
    "    fig, (ax1, ax2) = plt.subplots(1, 2, figsize=(13, 4))\n",
    "\n",
    "    #theoretical and numerical concentration profile\n",
    "    x = np.linspace(0, 6, 200)\n",
    "    ax2.plot(x, cr_sol(t=1,x=x),\"g.\",x,cr_an(1),\"g--\",x,co_sol(t=1, x=x),\"r.\",x, 1-cr_an(1),\"r--\",\n",
    "             x, cr_sol(t=0.1,x=x),\"g.\",x,cr_an(.1),\"g--\",x,co_sol(t=0.1, x=x),\"r.\",x, 1-cr_an(.1),\"r--\",\n",
    "             x, cr_sol(t=0.01,x=x),\"g.\",x,cr_an(.01),\"g--\",x, co_sol(t=0.01, x=x),\"r.\",x, 1-cr_an(.01),\"r--\",\n",
    "             x, cr_sol(t=0.001,x=x),\"g.\",x,cr_an(.001),\"g--\",x, co_sol(t=0.001, x=x),\"r.\",x, 1-cr_an(.001),\"r--\")\n",
    "    ax2.set_xlabel(\"x\")\n",
    "    ax2.set_ylabel(\"Concentration\")\n",
    "    ax2.set_xlim([0,0.9])\n",
    "    \n",
    "    #theoretical and numerical current\n",
    "    ax1.plot(solution.t,-No_sol(solution.t,x=0),\"r .\",solution.t,i_an(solution.t),\"b\")\n",
    "    ax1.set_xlabel(\"t\")\n",
    "    ax1.set_ylabel(\"Current\")\n",
    "    ax1.set_xlim([0.01,1])\n",
    "    ax1.set_ylim([0,6])\n",
    "    plt.tight_layout()\n",
    "    plt.show()\n",
    "\n",
    "# Cria um Text widget para entrada do sobrepotencial\n",
    "eta_text = Text(value='-0.1', description= 'entre $ \\eta $ em V  ($\\eta <0$):', continuous_update=False,\n",
    "                style={'description_width':'initial'})\n",
    "\n",
    "# Usa ipywidgets interact com o Text widget\n",
    "interact(plot_solution, eta_ap=eta_text);\n"
   ]
  },
  {
   "cell_type": "code",
   "execution_count": null,
   "metadata": {},
   "outputs": [],
   "source": []
  }
 ],
 "metadata": {
  "colab": {
   "provenance": []
  },
  "kernelspec": {
   "display_name": "Python 3 (ipykernel)",
   "language": "python",
   "name": "python3"
  },
  "language_info": {
   "codemirror_mode": {
    "name": "ipython",
    "version": 3
   },
   "file_extension": ".py",
   "mimetype": "text/x-python",
   "name": "python",
   "nbconvert_exporter": "python",
   "pygments_lexer": "ipython3",
   "version": "3.11.10"
  },
  "toc": {
   "base_numbering": 1,
   "nav_menu": {},
   "number_sections": true,
   "sideBar": true,
   "skip_h1_title": false,
   "title_cell": "Table of Contents",
   "title_sidebar": "Contents",
   "toc_cell": false,
   "toc_position": {},
   "toc_section_display": true,
   "toc_window_display": true
  }
 },
 "nbformat": 4,
 "nbformat_minor": 4
}
